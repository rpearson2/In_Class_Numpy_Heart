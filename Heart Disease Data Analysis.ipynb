{
 "cells": [
  {
   "cell_type": "code",
   "execution_count": 28,
   "id": "c8417001",
   "metadata": {},
   "outputs": [],
   "source": [
    "import numpy as np"
   ]
  },
  {
   "cell_type": "code",
   "execution_count": 29,
   "id": "b3a55fcc",
   "metadata": {},
   "outputs": [],
   "source": [
    "data=np.genfromtxt(\"heart.csv\", delimiter=\",\", skip_header=True)"
   ]
  },
  {
   "cell_type": "markdown",
   "id": "34bffea5",
   "metadata": {},
   "source": [
    "#### Question: Examine the realtionship between age, sex, cholesterol levels, trestbps (resting blood pressure), chestpain(cp)"
   ]
  },
  {
   "cell_type": "markdown",
   "id": "f3fd33f8",
   "metadata": {},
   "source": [
    "cp: chest pain type\n",
    "— Value 0: asymptomatic\n",
    "— Value 1: atypical angina\n",
    "— Value 2: non-anginal pain\n",
    "— Value 3: typical angina"
   ]
  },
  {
   "cell_type": "markdown",
   "id": "6297e7eb",
   "metadata": {},
   "source": [
    "### Summary\n",
    "Compared the data of age, sex, cholesterol levels, trestbps, and chest pain.\n",
    "We found that there was weak correlation between our variables. The average age of the data set was 54 with the maximum age being 77 and the minimum age being 29. For this data, we found that it was better to use data filtering instead of correlation. Men made up more of the data set than females. The percentage of males that had high cholesterol was 82.6%, while the percentage of females that had high cholesterol was 85.4%. \n",
    "\n",
    "Finally I to find if someone was the most susceptilble to having heart disease, I looked at if they had high cholesterol, high trestbps and if they had anyform of chest pain. From that I found that 40/303 people were the most susceptible to heart disease. 26 of those were male while 14 of those were female. "
   ]
  },
  {
   "cell_type": "markdown",
   "id": "e57395c4",
   "metadata": {},
   "source": [
    "sex (1=male, 0=female)"
   ]
  },
  {
   "cell_type": "code",
   "execution_count": 30,
   "id": "a7ad497e",
   "metadata": {},
   "outputs": [],
   "source": [
    "age=data[:,0]"
   ]
  },
  {
   "cell_type": "code",
   "execution_count": 31,
   "id": "427d3925",
   "metadata": {},
   "outputs": [],
   "source": [
    "sex=data[:,1]"
   ]
  },
  {
   "cell_type": "code",
   "execution_count": 32,
   "id": "7c2d42c3",
   "metadata": {},
   "outputs": [],
   "source": [
    "chestpain=data[:,2]"
   ]
  },
  {
   "cell_type": "code",
   "execution_count": 33,
   "id": "0fcc148c",
   "metadata": {},
   "outputs": [],
   "source": [
    "trestbps=data[:,3]"
   ]
  },
  {
   "cell_type": "code",
   "execution_count": 34,
   "id": "cecf2e0c",
   "metadata": {},
   "outputs": [],
   "source": [
    "chol_levels=data[:,4]"
   ]
  },
  {
   "cell_type": "markdown",
   "id": "c7cef801",
   "metadata": {},
   "source": [
    "## Descriptive Statistics"
   ]
  },
  {
   "cell_type": "code",
   "execution_count": 35,
   "id": "58e87127",
   "metadata": {},
   "outputs": [
    {
     "name": "stdout",
     "output_type": "stream",
     "text": [
      "--Basic Descriptive Statistics on Age--\n",
      "Mean: 54\n",
      "Median: 55.0\n",
      "Standard Deviation: 9\n",
      "Min: 29.0\n",
      "Max: 77.0\n"
     ]
    }
   ],
   "source": [
    "# age\n",
    "print(\"--Basic Descriptive Statistics on Age--\")\n",
    "print(f\"Mean: {round(np.mean(age))}\")\n",
    "print(f\"Median: {np.median(age)}\")\n",
    "print(f\"Standard Deviation: {round(np.std(age))}\")\n",
    "print(f\"Min: {np.min(age)}\")\n",
    "print(f\"Max: {np.max(age)}\")"
   ]
  },
  {
   "cell_type": "code",
   "execution_count": 36,
   "id": "b6b04267",
   "metadata": {},
   "outputs": [
    {
     "name": "stdout",
     "output_type": "stream",
     "text": [
      "--Basic Descriptive Statistics on Trestbps--\n",
      "Mean: 132\n",
      "Median: 130.0\n",
      "Standard Deviation: 18\n",
      "Min: 94.0\n",
      "Max: 200.0\n"
     ]
    }
   ],
   "source": [
    "# trestbps\n",
    "print(\"--Basic Descriptive Statistics on Trestbps--\")\n",
    "print(f\"Mean: {round(np.mean(trestbps))}\")\n",
    "print(f\"Median: {np.median(trestbps)}\")\n",
    "print(f\"Standard Deviation: {round(np.std(trestbps))}\")\n",
    "print(f\"Min: {np.min(trestbps)}\")\n",
    "print(f\"Max: {np.max(trestbps)}\")"
   ]
  },
  {
   "cell_type": "code",
   "execution_count": 37,
   "id": "26953dee",
   "metadata": {},
   "outputs": [
    {
     "name": "stdout",
     "output_type": "stream",
     "text": [
      "--Basic Descriptive Statistics on Cholesterol Levels--\n",
      "Mean: 246\n",
      "Median: 240.0\n",
      "Standard Deviation: 52\n",
      "Min: 126.0\n",
      "Max: 564.0\n"
     ]
    }
   ],
   "source": [
    "# cholesterol levels\n",
    "print(\"--Basic Descriptive Statistics on Cholesterol Levels--\")\n",
    "print(f\"Mean: {round(np.mean(chol_levels))}\")\n",
    "print(f\"Median: {np.median(chol_levels)}\")\n",
    "print(f\"Standard Deviation: {round(np.std(chol_levels))}\")\n",
    "print(f\"Min: {np.min(chol_levels)}\")\n",
    "print(f\"Max: {np.max(chol_levels)}\")"
   ]
  },
  {
   "cell_type": "markdown",
   "id": "fc2fe2e0",
   "metadata": {},
   "source": [
    "## Data Filtering"
   ]
  },
  {
   "cell_type": "code",
   "execution_count": 38,
   "id": "cd9c2fbd",
   "metadata": {},
   "outputs": [
    {
     "name": "stdout",
     "output_type": "stream",
     "text": [
      "Number of rows before filtering: 303\n"
     ]
    }
   ],
   "source": [
    "print(f\"Number of rows before filtering: {len(data)}\")"
   ]
  },
  {
   "cell_type": "code",
   "execution_count": 39,
   "id": "78320884",
   "metadata": {},
   "outputs": [
    {
     "name": "stdout",
     "output_type": "stream",
     "text": [
      "Number of rows with male data: 207\n"
     ]
    }
   ],
   "source": [
    "male_data=data[(sex==1)]\n",
    "print(f\"Number of rows with male data: {len(male_data)}\")"
   ]
  },
  {
   "cell_type": "code",
   "execution_count": 40,
   "id": "37fcdd73",
   "metadata": {},
   "outputs": [
    {
     "name": "stdout",
     "output_type": "stream",
     "text": [
      "Number of rows with female data: 96\n"
     ]
    }
   ],
   "source": [
    "female_data=data[(sex==0)]\n",
    "print(f\"Number of rows with female data: {len(female_data)}\")"
   ]
  },
  {
   "cell_type": "code",
   "execution_count": 41,
   "id": "2775a586",
   "metadata": {},
   "outputs": [
    {
     "name": "stdout",
     "output_type": "stream",
     "text": [
      "The number of people who have high cholesterol levels is 253\n",
      "The number of males who have high cholesterol levels is 171\n",
      "The number of females who have high cholesterol levels is 82\n"
     ]
    }
   ],
   "source": [
    "# high cholesterol >= 200\n",
    "high_chol= data[(chol_levels>=200)]\n",
    "print(f\"The number of people who have high cholesterol levels is {len(high_chol)}\")\n",
    "\n",
    "# male\n",
    "high_chol_m= data[(chol_levels>=200)&(sex==1)]\n",
    "print(f\"The number of males who have high cholesterol levels is {len(high_chol_m)}\")\n",
    "# female\n",
    "high_chol_f= data[(chol_levels>=200)&(sex==0)]\n",
    "print(f\"The number of females who have high cholesterol levels is {len(high_chol_f)}\")"
   ]
  },
  {
   "cell_type": "code",
   "execution_count": 42,
   "id": "d012b967",
   "metadata": {},
   "outputs": [
    {
     "name": "stdout",
     "output_type": "stream",
     "text": [
      "The number of people who have high resting blood pressure is 97\n",
      "The number of males who have high resting blood pressure is 65\n",
      "The number of females who have high resting blood pressure is 32\n"
     ]
    }
   ],
   "source": [
    "# high trestbps >=140\n",
    "high_trestbps= data[(trestbps>=140)]\n",
    "print(f\"The number of people who have high resting blood pressure is {len(high_trestbps)}\")\n",
    "\n",
    "#male\n",
    "high_trestbps_m= data[(trestbps>=140)&(sex==1)]\n",
    "print(f\"The number of males who have high resting blood pressure is {len(high_trestbps_m)}\")\n",
    "#female\n",
    "high_trestbps_f= data[(trestbps>=140)&(sex==0)]\n",
    "print(f\"The number of females who have high resting blood pressure is {len(high_trestbps_f)}\")"
   ]
  },
  {
   "cell_type": "code",
   "execution_count": 45,
   "id": "bfb90069",
   "metadata": {},
   "outputs": [
    {
     "name": "stdout",
     "output_type": "stream",
     "text": [
      "The number of people who have typical angina is 23\n",
      "The number of males who have typical angina is 19\n",
      "The number of females who have typical angina is 4\n",
      "\n",
      "\n",
      "The number of people who have typical angina is 280\n",
      "The number of males who have typical angina is 188\n",
      "The number of females who have typical angina is 92\n"
     ]
    }
   ],
   "source": [
    "# chest pain type\n",
    "# Value 3: typical angina - Angina chest pain is a pressure or squeezing like sensation that is usually caused when \n",
    "# your heart muscle doesn't get an adequate supply of oxygenated blood.\n",
    "\n",
    "# have angina\n",
    "angina=data[(chestpain==3)]\n",
    "print(f\"The number of people who have typical angina is {len(angina)}\")\n",
    "\n",
    "#male\n",
    "angina_m=data[(chestpain==3)&(sex==1)]\n",
    "print(f\"The number of males who have typical angina is {len(angina_m)}\")\n",
    "\n",
    "#female\n",
    "angina_f=data[(chestpain==3)&(sex==0)]\n",
    "print(f\"The number of females who have typical angina is {len(angina_f)}\")\n",
    "print(\"\\n\")\n",
    "#don't have angina\n",
    "n_angina=data[(chestpain!=3)]\n",
    "print(f\"The number of people who have typical angina is {len(n_angina)}\")\n",
    "\n",
    "#male\n",
    "n_angina_m=data[(chestpain!=3)&(sex==1)]\n",
    "print(f\"The number of males who have typical angina is {len(n_angina_m)}\")\n",
    "\n",
    "#female\n",
    "n_angina_f=data[(chestpain!=3)&(sex==0)]\n",
    "print(f\"The number of females who have typical angina is {len(n_angina_f)}\")\n"
   ]
  },
  {
   "cell_type": "code",
   "execution_count": 47,
   "id": "4310a169",
   "metadata": {},
   "outputs": [
    {
     "name": "stdout",
     "output_type": "stream",
     "text": [
      "The number of people 50 or older is 215\n",
      "The number of people who are younger than 50 is 88\n"
     ]
    }
   ],
   "source": [
    "#age\n",
    "old_age=data[(age>=50)]\n",
    "print(f\"The number of people 50 or older is {len(old_age)}\")\n",
    "\n",
    "young_age=data[(age<50)]\n",
    "print(f\"The number of people who are younger than 50 is {len(young_age)}\")"
   ]
  },
  {
   "cell_type": "code",
   "execution_count": 69,
   "id": "8847f95d",
   "metadata": {},
   "outputs": [
    {
     "name": "stdout",
     "output_type": "stream",
     "text": [
      "40\n",
      "Number of males susceptible to heart disease is 26\n",
      "Number of females susceptible to heart disease is 14\n"
     ]
    }
   ],
   "source": [
    "# sex chestpain, high chol, high trest\n",
    "hd_o=data[(chol_levels>=200)&(trestbps>=140)&(chestpain!=0)]\n",
    "print(len(hd_o))\n",
    "\n",
    "hd_o_m1=data[(sex==1)&(chol_levels>=200)&(trestbps>=140)&(chestpain!=0)]\n",
    "print(f\"Number of males susceptible to heart disease is {len(hd_o_m1)}\")\n",
    "\n",
    "hd_o_f1=data[(sex==0)&(chol_levels>=200)&(trestbps>=140)&(chestpain!=0)]\n",
    "print(f\"Number of females susceptible to heart disease is {len(hd_o_f1)}\")\n"
   ]
  },
  {
   "cell_type": "markdown",
   "id": "9e5f1850",
   "metadata": {},
   "source": [
    "### Data Correlation"
   ]
  },
  {
   "cell_type": "code",
   "execution_count": 55,
   "id": "807cf473",
   "metadata": {},
   "outputs": [
    {
     "name": "stdout",
     "output_type": "stream",
     "text": [
      "Correlation between age and Cholesterol levels [[1.         0.21367796]\n",
      " [0.21367796 1.        ]]\n"
     ]
    }
   ],
   "source": [
    "# Correlation between age and cholesterol\n",
    "age_chol=np.corrcoef(age, chol_levels, rowvar=False)\n",
    "print(f\"Correlation between age and Cholesterol levels {age_chol}\")"
   ]
  },
  {
   "cell_type": "code",
   "execution_count": 56,
   "id": "00e75dec",
   "metadata": {},
   "outputs": [
    {
     "name": "stdout",
     "output_type": "stream",
     "text": [
      "Correlation between age and trestbps [[1.         0.27935091]\n",
      " [0.27935091 1.        ]]\n"
     ]
    }
   ],
   "source": [
    "# Correlation between age and trestbps\n",
    "\n",
    "age_trestbps=np.corrcoef(age,trestbps,rowvar=False)\n",
    "print(f\"Correlation between age and trestbps {age_trestbps}\")"
   ]
  },
  {
   "cell_type": "code",
   "execution_count": 57,
   "id": "cd5759be",
   "metadata": {},
   "outputs": [
    {
     "name": "stdout",
     "output_type": "stream",
     "text": [
      "Correlation between age and Cholesterol levels [[ 1.         -0.06865302]\n",
      " [-0.06865302  1.        ]]\n"
     ]
    }
   ],
   "source": [
    "# correlation between age and chestpain\n",
    "age_chestpain=np.corrcoef(age, chestpain, rowvar=False)\n",
    "print(f\"Correlation between age and Cholesterol levels {age_chestpain}\")"
   ]
  },
  {
   "cell_type": "code",
   "execution_count": 58,
   "id": "7f577ea0",
   "metadata": {},
   "outputs": [
    {
     "name": "stdout",
     "output_type": "stream",
     "text": [
      "Correlation between trestbps and Cholesterol levels [[1.         0.12317421]\n",
      " [0.12317421 1.        ]]\n"
     ]
    }
   ],
   "source": [
    "# Correlation between cholesterol and trestbps\n",
    "trestbps_chol=np.corrcoef(trestbps, chol_levels, rowvar=False)\n",
    "print(f\"Correlation between trestbps and Cholesterol levels {trestbps_chol}\")"
   ]
  },
  {
   "cell_type": "code",
   "execution_count": 59,
   "id": "cdb060b9",
   "metadata": {},
   "outputs": [
    {
     "name": "stdout",
     "output_type": "stream",
     "text": [
      "Correlation between trestbps and Cholesterol levels [[ 1.         -0.07690439]\n",
      " [-0.07690439  1.        ]]\n"
     ]
    }
   ],
   "source": [
    "# Correlation between cholesterol and chestpain\n",
    "chestpain_chol=np.corrcoef(chol_levels, chestpain, rowvar=False)\n",
    "print(f\"Correlation between trestbps and Cholesterol levels {chestpain_chol}\")"
   ]
  },
  {
   "cell_type": "code",
   "execution_count": 60,
   "id": "33025e26",
   "metadata": {},
   "outputs": [
    {
     "name": "stdout",
     "output_type": "stream",
     "text": [
      "Correlation between trestbps and Cholesterol levels [[1.         0.04760776]\n",
      " [0.04760776 1.        ]]\n"
     ]
    }
   ],
   "source": [
    "# Correlation between trestbps and chestpain\n",
    "chestpain_trestbps=np.corrcoef(trestbps, chestpain, rowvar=False)\n",
    "print(f\"Correlation between trestbps and Cholesterol levels {chestpain_trestbps}\")"
   ]
  },
  {
   "cell_type": "code",
   "execution_count": null,
   "id": "9b0f2211",
   "metadata": {},
   "outputs": [],
   "source": []
  }
 ],
 "metadata": {
  "kernelspec": {
   "display_name": "Python 3 (ipykernel)",
   "language": "python",
   "name": "python3"
  },
  "language_info": {
   "codemirror_mode": {
    "name": "ipython",
    "version": 3
   },
   "file_extension": ".py",
   "mimetype": "text/x-python",
   "name": "python",
   "nbconvert_exporter": "python",
   "pygments_lexer": "ipython3",
   "version": "3.11.4"
  }
 },
 "nbformat": 4,
 "nbformat_minor": 5
}
